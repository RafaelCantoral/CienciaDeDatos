{
 "cells": [
  {
   "cell_type": "markdown",
   "metadata": {},
   "source": [
    "![logo](https://eventos.galileo.edu/images/logo-noslogan.png)"
   ]
  },
  {
   "cell_type": "markdown",
   "metadata": {},
   "source": [
    "### Postgrado en Analisis y Prediccion de Datos"
   ]
  },
  {
   "cell_type": "markdown",
   "metadata": {},
   "source": [
    "# *Curso*: Ciencia de Datos en Python"
   ]
  },
  {
   "cell_type": "markdown",
   "metadata": {},
   "source": [
    "## Hoja de Trabajo # 2: *Sintaxis, Listas y Tuplas*"
   ]
  },
  {
   "cell_type": "markdown",
   "metadata": {},
   "source": [
    "---"
   ]
  },
  {
   "cell_type": "markdown",
   "metadata": {},
   "source": [
    "# Parte # 1 - Programación y Sintaxis"
   ]
  },
  {
   "cell_type": "markdown",
   "metadata": {},
   "source": [
    "#### Ejercicio 1"
   ]
  },
  {
   "cell_type": "markdown",
   "metadata": {},
   "source": [
    "Haga un programa en Python que reciba de parámetro un número de segundos y que despliegue en pantalla, las horas, minutos y segundos que representan. Por ejemplo:\n",
    "\n",
    "- Si el número de segundos recibidos fuera: 2743 entonces su programa debería desplegar: Horas: 0, Minutos: 45, Segundos: 43 \n",
    "- Si el número de segundos recibidos fuera 5871: Horas: 1, Minutos: 37, Segundos: 51\n"
   ]
  },
  {
   "cell_type": "code",
   "execution_count": 118,
   "metadata": {},
   "outputs": [
    {
     "name": "stdout",
     "output_type": "stream",
     "text": [
      "Estimado usuario ingrese la cantidad de segundos a convertir: 5871\n",
      "Horas: 1, Minutos: 37, Segundos: 51\n"
     ]
    }
   ],
   "source": [
    "try:\n",
    "    segundos = int(input('Estimado usuario ingrese la cantidad de segundos a convertir: '))\n",
    "    \n",
    "    horas = (segundos)//(60*60)\n",
    "\n",
    "    minutos = (segundos - (horas*60*60))//(60)\n",
    "\n",
    "    segundo = (segundos -(horas*60*60) -(minutos*60))\n",
    "\n",
    "    print(f'Horas: {horas}, Minutos: {minutos}, Segundos: {segundo}')  \n",
    "    \n",
    "except ValueError:\n",
    "    print('Debe ingresar un numero entero')\n",
    "except:\n",
    "    print('Ha existido un error en el ingreso del dato')\n",
    "\n"
   ]
  },
  {
   "cell_type": "markdown",
   "metadata": {},
   "source": [
    "#### Ejercicio 2"
   ]
  },
  {
   "cell_type": "markdown",
   "metadata": {},
   "source": [
    "Haga una función en Python que dado un número entre 1 y 20. Y un carácter cualquiera despliegue cuatro patrones triangulares."
   ]
  },
  {
   "cell_type": "code",
   "execution_count": 126,
   "metadata": {},
   "outputs": [
    {
     "name": "stdout",
     "output_type": "stream",
     "text": [
      "Ingrese un numero en el rango de 1 a 20: 10\n",
      "Ingrese un carater cualquiera: *\n",
      "\n",
      "*\n",
      "**\n",
      "***\n",
      "****\n",
      "*****\n",
      "******\n",
      "*******\n",
      "********\n",
      "*********\n",
      "**********\n",
      "\n",
      "**********\n",
      "*********\n",
      "********\n",
      "*******\n",
      "******\n",
      "*****\n",
      "****\n",
      "***\n",
      "**\n",
      "*\n",
      "\n",
      "         *\n",
      "        **\n",
      "       ***\n",
      "      ****\n",
      "     *****\n",
      "    ******\n",
      "   *******\n",
      "  ********\n",
      " *********\n",
      "**********\n",
      "\n",
      "**********\n",
      " *********\n",
      "  ********\n",
      "   *******\n",
      "    ******\n",
      "     *****\n",
      "      ****\n",
      "       ***\n",
      "        **\n",
      "         *\n"
     ]
    }
   ],
   "source": [
    "\n",
    "while True:\n",
    "     \n",
    "    numero = int(input('Ingrese un numero en el rango de 1 a 20: '))\n",
    "    \n",
    "    if numero >=1 and numero <=20:\n",
    "        break\n",
    "    else:\n",
    "        print(\"Favor ingresar numero entre 1 a 20 unicamente\")\n",
    "\n",
    "carater = input('Ingrese un carater cualquiera: ')\n",
    "\n",
    "k = numero\n",
    "\n",
    "print(\"\")\n",
    "\n",
    "for i in range(1,numero + 1):\n",
    "    for j in range(1,i+1):\n",
    "        print(carater, end=\"\")    \n",
    "    print(\"\")\n",
    "\n",
    "print(\"\")\n",
    "\n",
    "for i in range(numero,0,-1):\n",
    "    for j in range(i,0,-1):\n",
    "        print(carater, end=\"\")    \n",
    "    print(\"\")\n",
    "    \n",
    "print(\"\")\n",
    "\n",
    "for i in range(1, numero + 1):\n",
    "    for j in range(1,k):\n",
    "        print(end=\" \")\n",
    "    k = k - 1\n",
    "    for j in range(1,i+1):\n",
    "        print(carater,end=\"\")\n",
    "        \n",
    "    print(\"\")\n",
    "\n",
    "x = 1\n",
    "\n",
    "print(\"\")\n",
    "\n",
    "for i in range(numero,0,-1):\n",
    "    for j in range(1,x):\n",
    "        print(end=\" \")\n",
    "    x = x + 1\n",
    "    for j in range(i,0,-1):\n",
    "        print(carater,end=\"\")\n",
    "        \n",
    "    print(\"\")\n",
    "\n"
   ]
  },
  {
   "cell_type": "markdown",
   "metadata": {},
   "source": [
    "#### Ejercicio 3"
   ]
  },
  {
   "cell_type": "markdown",
   "metadata": {},
   "source": [
    "Haga un programa en Python que pida la fecha de nacimiento de una persona (puede ingresar por separado cada valor, es decir pedir primero día, luego mes y luego año), despliegue la edad de la persona en años, meses y días. Su resultado puede ser aproximado."
   ]
  },
  {
   "cell_type": "code",
   "execution_count": 147,
   "metadata": {},
   "outputs": [
    {
     "name": "stdout",
     "output_type": "stream",
     "text": [
      "Estimado usuario favor ingrese su fecha de nacimiento\n",
      "Ingrese dia: 13\n",
      "Ingrese mes: 1\n",
      "Ingrese año: 1985\n",
      "Su edad actual es: 36 años, 1 mes/meses y 8 dia/dias\n"
     ]
    }
   ],
   "source": [
    "import datetime as dt\n",
    "\n",
    "print('Estimado usuario favor ingrese su fecha de nacimiento')\n",
    "dia = int(input('Ingrese dia: '))\n",
    "mes = int(input('Ingrese mes: '))\n",
    "year = int(input('Ingrese año: '))\n",
    "\n",
    "hoy = dt.date.today()\n",
    "\n",
    "fecha = str(dia)+' '+str(mes)+' '+str(year)\n",
    "\n",
    "fecha2= dt.datetime.strptime(fecha,'%d %m %Y').date()\n",
    "\n",
    "diferencia = dt.date.today() - fecha2\n",
    "\n",
    "year2 = (diferencia)//(30*12)\n",
    "\n",
    "diffyear = (hoy.year - fecha2.year)\n",
    "\n",
    "diffmonth = (hoy.month - fecha2.month)\n",
    "\n",
    "diffday = (hoy.day - fecha2.day)\n",
    "\n",
    "\n",
    "if diffmonth <0:\n",
    "    diffyear = diffyear -1\n",
    "    if diffday <0:\n",
    "        diffmonth = (12 + diffmonth)-1\n",
    "        diffday = 30 + diffday\n",
    "    else:\n",
    "        diffmonth = 12 + diffmonth\n",
    "\n",
    "\n",
    "\n",
    "print(f'Su edad actual es: {diffyear} años, {diffmonth} mes/meses y {diffday} dia/dias')\n",
    "\n",
    "\n"
   ]
  },
  {
   "cell_type": "markdown",
   "metadata": {},
   "source": [
    "# Parte # 2 Estructuras de Datos"
   ]
  },
  {
   "cell_type": "markdown",
   "metadata": {},
   "source": [
    "#### Ejercicio 1"
   ]
  },
  {
   "cell_type": "markdown",
   "metadata": {},
   "source": [
    "Escriba una función en Python que dada una tupla de elementos (números o letras) esta se convierta a un string. Tomar nota del siguiente ejemplo: \n",
    "\n",
    "- Si la entrada fuera: (10, 20, 40, 5, 70) \n",
    "- La salida debería ser: 102040570"
   ]
  },
  {
   "cell_type": "code",
   "execution_count": 97,
   "metadata": {},
   "outputs": [
    {
     "name": "stdout",
     "output_type": "stream",
     "text": [
      "102040570\n",
      "1234111213\n"
     ]
    }
   ],
   "source": [
    "a = (10,20,40,5,70)\n",
    "b = (1,2,3,4,11,12,13)\n",
    "\n",
    "def conversion(x):\n",
    "    for i in x:\n",
    "        print(str(i),end=\"\")\n",
    "    print(\"\")\n",
    "\n",
    "conversion(a)\n",
    "conversion(b)"
   ]
  },
  {
   "cell_type": "markdown",
   "metadata": {},
   "source": [
    "#### Ejercicio 2"
   ]
  },
  {
   "cell_type": "markdown",
   "metadata": {},
   "source": [
    "Cree un programa en Python que, dada una lista de tuplas, elimine las tuplas que están vacías. Tomar nota del siguiente ejemplo:\n",
    "\n",
    "- Si la lista fuera: [(), (), (’X’,), (’a’, ’b’), (’a’, ’b’, ’c’), (’d’)] \n",
    "- El resultado debería ser: [(’X’), (’a’, ’b’), (’a’, ’b’, ’c’), ’d’]\n"
   ]
  },
  {
   "cell_type": "code",
   "execution_count": 107,
   "metadata": {},
   "outputs": [
    {
     "name": "stdout",
     "output_type": "stream",
     "text": [
      "['X', ('a', 'b'), ('a', 'b', 'c'), 'd']\n"
     ]
    }
   ],
   "source": [
    "alist = [(),(),('X'),('a','b'),('a','b','c'),('d')]\n",
    "\n",
    "def eliminar(a):\n",
    "    blist = [x for x in a if x]\n",
    "    return blist\n",
    "    \n",
    "print(eliminar(alist))\n",
    "\n",
    "\n"
   ]
  },
  {
   "cell_type": "markdown",
   "metadata": {},
   "source": [
    "#### Ejercicio 3"
   ]
  },
  {
   "cell_type": "markdown",
   "metadata": {},
   "source": [
    "Cree una función en Python que, dada una tupla de tuplas con números, produzca una tupla con el promedio de cada tupla individual. Tomar nota del siguiente ejemplo: \n",
    "-\tSi la tupla de entrada fuera: ((10, 10, 10, 12), (30, 45, 56, 45), (81, 80, 39, 32)) \n",
    "-\tEl resultado debería ser: (10.5, 44, 58)\n"
   ]
  },
  {
   "cell_type": "code",
   "execution_count": 111,
   "metadata": {},
   "outputs": [
    {
     "name": "stdout",
     "output_type": "stream",
     "text": [
      "(10.5, 44.0, 58.0)\n"
     ]
    }
   ],
   "source": [
    "a = ((10, 10, 10, 12), (30, 45, 56, 45), (81, 80, 39, 32))\n",
    "\n",
    "def promedio(x):\n",
    "    \n",
    "    alist = []\n",
    "    for i in a:\n",
    "        sum = 0\n",
    "        for j in i:\n",
    "            sum = sum + j\n",
    "        agregar = (sum/(len(i)))\n",
    "        alist.append(agregar)\n",
    "    atuple = tuple(alist)\n",
    "    return(atuple)\n",
    "\n",
    "print(promedio(a))"
   ]
  },
  {
   "cell_type": "code",
   "execution_count": null,
   "metadata": {},
   "outputs": [],
   "source": []
  }
 ],
 "metadata": {
  "kernelspec": {
   "display_name": "Python 3",
   "language": "python",
   "name": "python3"
  },
  "language_info": {
   "codemirror_mode": {
    "name": "ipython",
    "version": 3
   },
   "file_extension": ".py",
   "mimetype": "text/x-python",
   "name": "python",
   "nbconvert_exporter": "python",
   "pygments_lexer": "ipython3",
   "version": "3.8.3"
  }
 },
 "nbformat": 4,
 "nbformat_minor": 4
}
