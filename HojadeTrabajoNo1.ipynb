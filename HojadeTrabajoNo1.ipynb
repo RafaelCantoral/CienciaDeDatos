{
 "cells": [
  {
   "cell_type": "markdown",
   "metadata": {},
   "source": [
    "![logo](https://eventos.galileo.edu/images/logo-noslogan.png)"
   ]
  },
  {
   "cell_type": "markdown",
   "metadata": {},
   "source": [
    "### Postgrado en Analisis y Prediccion de Datos"
   ]
  },
  {
   "cell_type": "markdown",
   "metadata": {},
   "source": [
    "# *Curso*: Ciencia de Datos en Python"
   ]
  },
  {
   "cell_type": "markdown",
   "metadata": {},
   "source": [
    "#### Hoja de Trabajo # 1: *Jupyter Notebooks, Markdown y GIT*"
   ]
  },
  {
   "cell_type": "markdown",
   "metadata": {},
   "source": [
    "---"
   ]
  },
  {
   "cell_type": "markdown",
   "metadata": {},
   "source": [
    "# Resumen acerca de:"
   ]
  },
  {
   "cell_type": "markdown",
   "metadata": {},
   "source": [
    "![logo2](https://raw.githubusercontent.com/aledc7/git/master/git1.png)"
   ]
  },
  {
   "cell_type": "markdown",
   "metadata": {},
   "source": [
    "Los sistemas de control de versiones son una herramienta que ayuda en la administración de cambios realizados tanto en código como también en archivos y directorios de un proyecto. Como bien lo indica su nombre, estos sistemas ayudan a mantener un historial de cambios y esto facilita los trabajos de colaboración entre personas o equipos de trabajo. En la actualidad existen varios sistemas de control, este documento se enfoca en “Git”, esto derivado de sus principales fortalezas que listan a continuación:"
   ]
  },
  {
   "cell_type": "markdown",
   "metadata": {},
   "source": [
    "-\tUna vez que se ha guardado en Git nada se pierde, por lo que siempre se esta en la capacidad volver a ver los resultados generados por versiones previas.\n",
    "-\tGit automáticamente notifica cuando existe un conflicto entre versiones, por lo que es menos probable que se pudiera sobrescribir.\n",
    "-\tGit puede sincronizar el trabajo realizado por diferentes personas en diferentes maquinas, por lo que es escalable a medida que los mismos equipos lo hacen.\n"
   ]
  },
  {
   "cell_type": "markdown",
   "metadata": {},
   "source": [
    "Antes de continuar es importante hacer la aclaración que GitHub no es Git, esto para evitar confusiones, ya que GitHub es un sitio web de hosting de proyectos que utiliza Git."
   ]
  },
  {
   "cell_type": "markdown",
   "metadata": {},
   "source": [
    "### ¿Como se obtiene Git?"
   ]
  },
  {
   "cell_type": "markdown",
   "metadata": {},
   "source": [
    "Hoy por hoy la mayoría sistemas ya traen Git por defecto, en caso no fuere así este se obtener de dos maneras:\n",
    "\n",
    "1.\tSe puede descargar la versión de línea de comando en el siguiente link. [Presione aquí](https://git-scm.com/downloads)\n",
    "2.\tAhora si se prefiere una interfaz grafica se cuenta con la siguiente versión de escritorio de GitHub Desktop. [Presione aquí](https://desktop.github.com/)\n"
   ]
  },
  {
   "cell_type": "markdown",
   "metadata": {},
   "source": [
    "### ¿En dónde se almacena la información de Git?"
   ]
  },
  {
   "cell_type": "markdown",
   "metadata": {},
   "source": [
    "Cada proyecto de Git tiene dos componentes, los archivos y directorios creados por el usuario y que puede ser editados y el segundo componente es la información propia que almacena Git sobre la historia del proyecto, la combinación de estos dos componentes se le llama repositorio. A continuación, se presenta un listado de comandos Git."
   ]
  },
  {
   "cell_type": "markdown",
   "metadata": {},
   "source": [
    "### Comandos comunes"
   ]
  },
  {
   "cell_type": "markdown",
   "metadata": {},
   "source": [
    "#### 1. Iniciar un Repositorio"
   ]
  },
  {
   "cell_type": "markdown",
   "metadata": {},
   "source": [
    "Para inicializar un proyecto en la maquina local lo primero que se debe de realizar es crear un repositorio, para esto se utiliza el comando “Git Init” en el folder especificado."
   ]
  },
  {
   "cell_type": "code",
   "execution_count": 14,
   "metadata": {},
   "outputs": [
    {
     "data": {
      "text/plain": [
       "'C:\\\\Users\\\\30136443\\\\Documents\\\\Postgrado Analisis y Prediccion de Datos\\\\ciencia de datos\\\\Repository'"
      ]
     },
     "execution_count": 14,
     "metadata": {},
     "output_type": "execute_result"
    }
   ],
   "source": [
    "%pwd"
   ]
  },
  {
   "cell_type": "code",
   "execution_count": 12,
   "metadata": {
    "scrolled": true
   },
   "outputs": [
    {
     "data": {
      "text/plain": [
       "['Initialized empty Git repository in C:/Users/30136443/Documents/Postgrado Analisis y Prediccion de Datos/Ciencia de Datos/Repository/.git/']"
      ]
     },
     "execution_count": 12,
     "metadata": {},
     "output_type": "execute_result"
    }
   ],
   "source": [
    "%system git init"
   ]
  },
  {
   "cell_type": "markdown",
   "metadata": {},
   "source": [
    "#### 2. Agregar un nuevo archivo al repositorio"
   ]
  },
  {
   "cell_type": "code",
   "execution_count": 18,
   "metadata": {},
   "outputs": [
    {
     "data": {
      "text/plain": [
       "[\"'touch' is not recognized as an internal or external command,\",\n",
       " 'operable program or batch file.']"
      ]
     },
     "execution_count": 18,
     "metadata": {},
     "output_type": "execute_result"
    }
   ],
   "source": [
    "%system touch HojaDeTrabajo1.txt"
   ]
  },
  {
   "cell_type": "code",
   "execution_count": null,
   "metadata": {},
   "outputs": [],
   "source": []
  }
 ],
 "metadata": {
  "kernelspec": {
   "display_name": "Python 3",
   "language": "python",
   "name": "python3"
  },
  "language_info": {
   "codemirror_mode": {
    "name": "ipython",
    "version": 3
   },
   "file_extension": ".py",
   "mimetype": "text/x-python",
   "name": "python",
   "nbconvert_exporter": "python",
   "pygments_lexer": "ipython3",
   "version": "3.8.3"
  }
 },
 "nbformat": 4,
 "nbformat_minor": 4
}
