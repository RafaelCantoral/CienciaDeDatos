{
 "cells": [
  {
   "cell_type": "markdown",
   "metadata": {},
   "source": [
    "![logo](https://eventos.galileo.edu/images/logo-noslogan.png)"
   ]
  },
  {
   "cell_type": "markdown",
   "metadata": {},
   "source": [
    "### Postgrado en Analisis y Prediccion de Datos"
   ]
  },
  {
   "cell_type": "markdown",
   "metadata": {},
   "source": [
    "# *Curso*: Ciencia de Datos en Python"
   ]
  },
  {
   "cell_type": "markdown",
   "metadata": {},
   "source": [
    "#### Hoja de Trabajo # 1: *Jupyter Notebooks, Markdown y GIT*"
   ]
  },
  {
   "cell_type": "markdown",
   "metadata": {},
   "source": [
    "---"
   ]
  },
  {
   "cell_type": "markdown",
   "metadata": {},
   "source": [
    "# Resumen acerca de:"
   ]
  },
  {
   "cell_type": "markdown",
   "metadata": {},
   "source": [
    "![logo2](https://raw.githubusercontent.com/aledc7/git/master/git1.png)"
   ]
  },
  {
   "cell_type": "markdown",
   "metadata": {},
   "source": [
    "Los sistemas de control de versiones son una herramienta que ayuda en la administración de cambios realizados tanto en código como también en archivos y directorios de un proyecto. Como bien lo indica su nombre, estos sistemas ayudan a mantener un historial de cambios y esto facilita los trabajos de colaboración entre personas o equipos de trabajo. En la actualidad existen varios sistemas de control, este documento se enfoca en “Git”, esto derivado de sus principales fortalezas que listan a continuación:"
   ]
  },
  {
   "cell_type": "markdown",
   "metadata": {},
   "source": [
    "-\tUna vez que se ha guardado en Git nada se pierde, por lo que siempre se esta en la capacidad volver a ver los resultados generados por versiones previas.\n",
    "-\tGit automáticamente notifica cuando existe un conflicto entre versiones, por lo que es menos probable que se pudiera sobrescribir.\n",
    "-\tGit puede sincronizar el trabajo realizado por diferentes personas en diferentes maquinas, por lo que es escalable a medida que los mismos equipos lo hacen.\n"
   ]
  },
  {
   "cell_type": "markdown",
   "metadata": {},
   "source": [
    "Antes de continuar es importante hacer la aclaración que GitHub no es Git, esto para evitar confusiones, ya que GitHub es un sitio web de hosting de proyectos que utiliza Git."
   ]
  },
  {
   "cell_type": "markdown",
   "metadata": {},
   "source": [
    "### ¿Como se obtiene Git?"
   ]
  },
  {
   "cell_type": "markdown",
   "metadata": {},
   "source": [
    "Hoy por hoy la mayoría sistemas ya traen Git por defecto, en caso no fuere así este se obtener de dos maneras:\n",
    "\n",
    "1.\tSe puede descargar la versión de línea de comando en el siguiente link. [Presione aquí](https://git-scm.com/downloads)\n",
    "2.\tAhora si se prefiere una interfaz grafica se cuenta con la siguiente versión de escritorio de GitHub Desktop. [Presione aquí](https://desktop.github.com/)\n"
   ]
  },
  {
   "cell_type": "markdown",
   "metadata": {},
   "source": [
    "### ¿En dónde se almacena la información de Git?"
   ]
  },
  {
   "cell_type": "markdown",
   "metadata": {},
   "source": [
    "Cada proyecto de Git tiene dos componentes, los archivos y directorios creados por el usuario y que puede ser editados y el segundo componente es la información propia que almacena Git sobre la historia del proyecto, la combinación de estos dos componentes se le llama repositorio. A continuación, se presenta un listado de comandos Git."
   ]
  },
  {
   "cell_type": "markdown",
   "metadata": {},
   "source": [
    "### Proceso para crear un repositorio desde la línea de comando"
   ]
  },
  {
   "cell_type": "markdown",
   "metadata": {},
   "source": [
    "#### 1. Iniciar un Repositorio"
   ]
  },
  {
   "cell_type": "markdown",
   "metadata": {},
   "source": [
    "Para inicializar un proyecto en la maquina local lo primero que se debe de realizar es crear un repositorio, para esto se utiliza el comando “Git Init” en el folder especificado."
   ]
  },
  {
   "cell_type": "code",
   "execution_count": 14,
   "metadata": {},
   "outputs": [
    {
     "data": {
      "text/plain": [
       "'C:\\\\Users\\\\30136443\\\\Documents\\\\Postgrado Analisis y Prediccion de Datos\\\\ciencia de datos\\\\Repository'"
      ]
     },
     "execution_count": 14,
     "metadata": {},
     "output_type": "execute_result"
    }
   ],
   "source": [
    "%pwd"
   ]
  },
  {
   "cell_type": "code",
   "execution_count": 12,
   "metadata": {
    "scrolled": true
   },
   "outputs": [
    {
     "data": {
      "text/plain": [
       "['Initialized empty Git repository in C:/Users/30136443/Documents/Postgrado Analisis y Prediccion de Datos/Ciencia de Datos/Repository/.git/']"
      ]
     },
     "execution_count": 12,
     "metadata": {},
     "output_type": "execute_result"
    }
   ],
   "source": [
    "%system git init"
   ]
  },
  {
   "cell_type": "markdown",
   "metadata": {},
   "source": [
    "#### 2. Agregar un nuevo archivo al repositorio"
   ]
  },
  {
   "cell_type": "markdown",
   "metadata": {},
   "source": [
    "El segundo paso es añadir el archivo o archivos al repositorio. Una vez que estos han sido agregados se puede utilizar el comando “git status” para verificar que archivos existen en el mismo. Es importante mencionar que git no lleva registro de los cambios en un archivo del repositorio a menos que expresamente se le indique. A continuación se ejecuta el comando “git status” y se muestra que un archivo ha sido agregado con nombre “Hoja de Trabajo No.1.ipynb”."
   ]
  },
  {
   "cell_type": "code",
   "execution_count": 28,
   "metadata": {},
   "outputs": [
    {
     "data": {
      "text/plain": [
       "['On branch master',\n",
       " '',\n",
       " 'No commits yet',\n",
       " '',\n",
       " 'Changes to be committed:',\n",
       " '  (use \"git rm --cached <file>...\" to unstage)',\n",
       " '\\tnew file:   HojadeTrabajoNo.1.ipynb',\n",
       " '',\n",
       " 'Changes not staged for commit:',\n",
       " '  (use \"git add/rm <file>...\" to update what will be committed)',\n",
       " '  (use \"git restore <file>...\" to discard changes in working directory)',\n",
       " '\\tdeleted:    HojadeTrabajoNo.1.ipynb',\n",
       " '',\n",
       " 'Untracked files:',\n",
       " '  (use \"git add <file>...\" to include in what will be committed)',\n",
       " '\\tHojadeTrabajoNo1.ipynb',\n",
       " '']"
      ]
     },
     "execution_count": 28,
     "metadata": {},
     "output_type": "execute_result"
    }
   ],
   "source": [
    "%system git status"
   ]
  },
  {
   "cell_type": "markdown",
   "metadata": {},
   "source": [
    "#### 3. Agregar archivo al “staging environment”"
   ]
  },
  {
   "cell_type": "markdown",
   "metadata": {},
   "source": [
    "Para agregar un archivo al “staging environment” se utiliza el comando “git add”, como se ejemplifica a continuación."
   ]
  },
  {
   "cell_type": "code",
   "execution_count": 29,
   "metadata": {},
   "outputs": [
    {
     "data": {
      "text/plain": [
       "['warning: LF will be replaced by CRLF in HojadeTrabajoNo1.ipynb.',\n",
       " 'The file will have its original line endings in your working directory']"
      ]
     },
     "execution_count": 29,
     "metadata": {},
     "output_type": "execute_result"
    }
   ],
   "source": [
    "%system git add HojadeTrabajoNo1.ipynb"
   ]
  },
  {
   "cell_type": "markdown",
   "metadata": {},
   "source": [
    "Se corre nuevamente el comando “git status” para verificar que el archivo efectivamente se encuentra en el “staging environment”."
   ]
  },
  {
   "cell_type": "code",
   "execution_count": 30,
   "metadata": {},
   "outputs": [
    {
     "data": {
      "text/plain": [
       "['On branch master',\n",
       " '',\n",
       " 'No commits yet',\n",
       " '',\n",
       " 'Changes to be committed:',\n",
       " '  (use \"git rm --cached <file>...\" to unstage)',\n",
       " '\\tnew file:   HojadeTrabajoNo.1.ipynb',\n",
       " '\\tnew file:   HojadeTrabajoNo1.ipynb',\n",
       " '',\n",
       " 'Changes not staged for commit:',\n",
       " '  (use \"git add/rm <file>...\" to update what will be committed)',\n",
       " '  (use \"git restore <file>...\" to discard changes in working directory)',\n",
       " '\\tdeleted:    HojadeTrabajoNo.1.ipynb',\n",
       " '']"
      ]
     },
     "execution_count": 30,
     "metadata": {},
     "output_type": "execute_result"
    }
   ],
   "source": [
    "%system git status"
   ]
  },
  {
   "cell_type": "markdown",
   "metadata": {},
   "source": [
    "#### 4. Crear un \"Commit\""
   ]
  },
  {
   "cell_type": "markdown",
   "metadata": {},
   "source": [
    "Para realizar un “commit” se utiliza el comando “git commit -m ‘agregar mensaje’”. Importante mencionar que el comentario que se agregue debe contener una clara explicación y referencia para que en el futuro sea de utilidad."
   ]
  },
  {
   "cell_type": "code",
   "execution_count": 31,
   "metadata": {},
   "outputs": [
    {
     "data": {
      "text/plain": [
       "['[master (root-commit) d987c2d] El primer commit',\n",
       " ' Committer: Rafael Cantoral <30136443@ACS-GUAT.COM>',\n",
       " 'Your name and email address were configured automatically based',\n",
       " 'on your username and hostname. Please check that they are accurate.',\n",
       " 'You can suppress this message by setting them explicitly. Run the',\n",
       " 'following command and follow the instructions in your editor to edit',\n",
       " 'your configuration file:',\n",
       " '',\n",
       " '    git config --global --edit',\n",
       " '',\n",
       " 'After doing this, you may fix the identity used for this commit with:',\n",
       " '',\n",
       " '    git commit --amend --reset-author',\n",
       " '',\n",
       " ' 2 files changed, 452 insertions(+)',\n",
       " ' create mode 100644 HojadeTrabajoNo.1.ipynb',\n",
       " ' create mode 100644 HojadeTrabajoNo1.ipynb']"
      ]
     },
     "execution_count": 31,
     "metadata": {},
     "output_type": "execute_result"
    }
   ],
   "source": [
    "%system git commit -m \"El primer commit\""
   ]
  },
  {
   "cell_type": "markdown",
   "metadata": {},
   "source": [
    "#### 5. Crear una nueva rama"
   ]
  },
  {
   "cell_type": "markdown",
   "metadata": {},
   "source": [
    "El siguiente comando que se va a ejemplificar es de mucha utilidad, ya que cuando se trabaja en un proyecto y no se quiere realizar un cambio el archivo máster, acá es donde se recurre a la creación de una rama del proyecto. Esto se logra con el siguiente comando."
   ]
  },
  {
   "cell_type": "code",
   "execution_count": 32,
   "metadata": {},
   "outputs": [
    {
     "data": {
      "text/plain": [
       "[]"
      ]
     },
     "execution_count": 32,
     "metadata": {},
     "output_type": "execute_result"
    }
   ],
   "source": [
    "%system git branch prueba"
   ]
  },
  {
   "cell_type": "markdown",
   "metadata": {},
   "source": [
    "Para verificar que la creación de la rama fue exitosa, se utiliza:"
   ]
  },
  {
   "cell_type": "code",
   "execution_count": 34,
   "metadata": {},
   "outputs": [
    {
     "data": {
      "text/plain": [
       "['* master', '  prueba']"
      ]
     },
     "execution_count": 34,
     "metadata": {},
     "output_type": "execute_result"
    }
   ],
   "source": [
    "%system git branch"
   ]
  },
  {
   "cell_type": "markdown",
   "metadata": {},
   "source": [
    "#### 6. Creación de un repositorio en GitHub"
   ]
  },
  {
   "cell_type": "markdown",
   "metadata": {},
   "source": [
    "Si únicamente se desea rastrear los cambios de manera local no es necesario utilizar GitHub, pero si en cambio se desea colaborar con un equipo, entonces la opción si sería GitHub. Para esto es necesario contar con un repositorio en GitHub, caso no se tenga una cuenta esta se puede abrir en la siguiente dirección: [GitHub](https://github.com/)\n",
    "\n",
    "GitHub da la opción de crear un repositorio desde cero o bien también se puede hacer “push” de un repositorio creado de manera local con los siguientes comandos:\n",
    "\n"
   ]
  },
  {
   "cell_type": "code",
   "execution_count": 8,
   "metadata": {},
   "outputs": [
    {
     "data": {
      "text/plain": [
       "['error: remote origin already exists.']"
      ]
     },
     "execution_count": 8,
     "metadata": {},
     "output_type": "execute_result"
    }
   ],
   "source": [
    "%system git remote add origin https://github.com/RafaelCantoral/CienciaDeDatos.git"
   ]
  },
  {
   "cell_type": "code",
   "execution_count": 9,
   "metadata": {},
   "outputs": [
    {
     "data": {
      "text/plain": [
       "[\"Branch 'master' set up to track remote branch 'master' from 'origin'.\",\n",
       " 'To https://github.com/RafaelCantoral/CienciaDeDatos.git',\n",
       " ' * [new branch]      master -> master']"
      ]
     },
     "execution_count": 9,
     "metadata": {},
     "output_type": "execute_result"
    }
   ],
   "source": [
    "%system git push -u origin master"
   ]
  },
  {
   "cell_type": "markdown",
   "metadata": {},
   "source": [
    "#### Clasificación de comandos"
   ]
  },
  {
   "cell_type": "markdown",
   "metadata": {},
   "source": [
    " - Comprobación: git status para comprobar el estado del repositorio"
   ]
  },
  {
   "cell_type": "code",
   "execution_count": 11,
   "metadata": {},
   "outputs": [
    {
     "data": {
      "text/plain": [
       "['On branch master',\n",
       " \"Your branch is up to date with 'origin/master'.\",\n",
       " '',\n",
       " 'Changes not staged for commit:',\n",
       " '  (use \"git add/rm <file>...\" to update what will be committed)',\n",
       " '  (use \"git restore <file>...\" to discard changes in working directory)',\n",
       " '\\tdeleted:    HojadeTrabajoNo.1.ipynb',\n",
       " '',\n",
       " 'no changes added to commit (use \"git add\" and/or \"git commit -a\")']"
      ]
     },
     "execution_count": 11,
     "metadata": {},
     "output_type": "execute_result"
    }
   ],
   "source": [
    "%system git status"
   ]
  },
  {
   "cell_type": "markdown",
   "metadata": {},
   "source": [
    "- Clonar un repositorio"
   ]
  },
  {
   "cell_type": "code",
   "execution_count": 12,
   "metadata": {},
   "outputs": [
    {
     "data": {
      "text/plain": [
       "[\"Cloning into 'CienciaDeDatos'...\"]"
      ]
     },
     "execution_count": 12,
     "metadata": {},
     "output_type": "execute_result"
    }
   ],
   "source": [
    "%system git clone https://github.com/RafaelCantoral/CienciaDeDatos.git"
   ]
  },
  {
   "cell_type": "markdown",
   "metadata": {},
   "source": [
    "- Información de cambios en el repositorio"
   ]
  },
  {
   "cell_type": "code",
   "execution_count": 4,
   "metadata": {},
   "outputs": [
    {
     "data": {
      "text/plain": [
       "['On branch master',\n",
       " \"Your branch is ahead of 'origin/master' by 1 commit.\",\n",
       " '  (use \"git push\" to publish your local commits)',\n",
       " '',\n",
       " 'Untracked files:',\n",
       " '  (use \"git add <file>...\" to include in what will be committed)',\n",
       " '\\tCienciaDeDatos/',\n",
       " '',\n",
       " 'nothing added to commit but untracked files present (use \"git add\" to track)']"
      ]
     },
     "execution_count": 4,
     "metadata": {},
     "output_type": "execute_result"
    }
   ],
   "source": [
    "%system git commit -m \"segundo commit\""
   ]
  },
  {
   "cell_type": "code",
   "execution_count": 5,
   "metadata": {},
   "outputs": [
    {
     "data": {
      "text/plain": [
       "[\"Branch 'master' set up to track remote branch 'master' from 'origin'.\",\n",
       " 'To https://github.com/RafaelCantoral/CienciaDeDatos.git',\n",
       " '   d987c2d..c9c1e18  master -> master']"
      ]
     },
     "execution_count": 5,
     "metadata": {},
     "output_type": "execute_result"
    }
   ],
   "source": [
    "%system git push -u origin master"
   ]
  },
  {
   "cell_type": "markdown",
   "metadata": {},
   "source": [
    "- Información de cambios en el repositorio"
   ]
  },
  {
   "cell_type": "code",
   "execution_count": 6,
   "metadata": {},
   "outputs": [
    {
     "data": {
      "text/plain": [
       "['commit c9c1e1836fdb91bfc724c1cf2cb461900c8b315c',\n",
       " 'Author: Rafael Cantoral <30136443@ACS-GUAT.COM>',\n",
       " 'Date:   Sun Feb 14 19:17:21 2021 -0600',\n",
       " '',\n",
       " '    Segundo Commit',\n",
       " '',\n",
       " 'commit d987c2d963d938644ff32455b82ef2ab45e50784',\n",
       " 'Author: Rafael Cantoral <30136443@ACS-GUAT.COM>',\n",
       " 'Date:   Sun Feb 14 15:40:17 2021 -0600',\n",
       " '',\n",
       " '    El primer commit']"
      ]
     },
     "execution_count": 6,
     "metadata": {},
     "output_type": "execute_result"
    }
   ],
   "source": [
    "%system git log"
   ]
  },
  {
   "cell_type": "markdown",
   "metadata": {},
   "source": [
    "Como se menciono anteriormente este documento pretendía hacer un resumen sobre las funcionalidades básicas de Git y como se puede interactuar con la plataforma GitHub y de esta manera poder visualizar los ventajes si se incorpora este tipo de tecnologías cuando se tienen colaboración entre equipos de trabajo y así poder manejar de una manera eficiente los cambios o progresos que se da en el desarrollo del uno o proyectos."
   ]
  },
  {
   "cell_type": "markdown",
   "metadata": {},
   "source": [
    "---"
   ]
  },
  {
   "cell_type": "markdown",
   "metadata": {},
   "source": [
    "![logo2](https://miro.medium.com/max/1125/1*wotzQboYWAfaj-7bvGNIkQ.png)"
   ]
  },
  {
   "cell_type": "code",
   "execution_count": null,
   "metadata": {},
   "outputs": [],
   "source": []
  }
 ],
 "metadata": {
  "kernelspec": {
   "display_name": "Python 3",
   "language": "python",
   "name": "python3"
  },
  "language_info": {
   "codemirror_mode": {
    "name": "ipython",
    "version": 3
   },
   "file_extension": ".py",
   "mimetype": "text/x-python",
   "name": "python",
   "nbconvert_exporter": "python",
   "pygments_lexer": "ipython3",
   "version": "3.8.3"
  }
 },
 "nbformat": 4,
 "nbformat_minor": 4
}
